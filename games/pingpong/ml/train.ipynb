{
 "cells": [
  {
   "cell_type": "code",
   "execution_count": 47,
   "metadata": {},
   "outputs": [],
   "source": [
    "import pickle\n",
    "import numpy as np\n",
    "from sklearn.neighbors import KNeighborsClassifier\n",
    "from sklearn.model_selection import train_test_split, cross_val_score\n",
    "from sklearn.metrics import  classification_report, confusion_matrix\n",
    "from sklearn.model_selection import GridSearchCV\n",
    "from sklearn.model_selection import StratifiedShuffleSplit\n",
    "\n",
    "\n",
    "file = open(\"../log/ (1).pickle\", \"rb\")\n",
    "data = pickle.load(file)\n",
    "file.close()\n",
    "\n",
    "# print(data)"
   ]
  },
  {
   "cell_type": "code",
   "execution_count": 48,
   "metadata": {},
   "outputs": [
    {
     "name": "stdout",
     "output_type": "stream",
     "text": [
      "30090\n",
      "30090\n",
      "30090\n",
      "30090\n"
     ]
    }
   ],
   "source": [
    "game_info = data['ml_1P']['scene_info']\n",
    "game_info2 = data['ml_2P']['scene_info']\n",
    "\n",
    "game_command = data['ml_1P']['command']\n",
    "game_command2 = data['ml_2P']['command']\n",
    "\n",
    "for i in range(2, 42):\n",
    "    path = \"../log/ (\"+str(i)+\").pickle\"\n",
    "    file = open(path, \"rb\")\n",
    "    data = pickle.load(file)\n",
    "    game_info = game_info + data['ml_1P']['scene_info']\n",
    "    game_command = game_command + data['ml_1P']['command']\n",
    "    file.close()\n",
    "    \n",
    "for i in range(2, 42):\n",
    "    path = \"../log/ (\"+str(i)+\").pickle\"\n",
    "    file = open(path, \"rb\")\n",
    "    data = pickle.load(file)\n",
    "    game_info2 = game_info2 + data['ml_2P']['scene_info']\n",
    "    game_command2 = game_command2 + data['ml_2P']['command']\n",
    "    file.close()\n",
    "    \n",
    "print(len(game_info))\n",
    "print(len(game_command))\n",
    "\n",
    "print(len(game_info2))\n",
    "print(len(game_command2))"
   ]
  },
  {
   "cell_type": "code",
   "execution_count": 49,
   "metadata": {},
   "outputs": [
    {
     "name": "stdout",
     "output_type": "stream",
     "text": [
      "30090\n",
      "30090\n",
      "[[ 98  80  80]\n",
      " [ 91  87  75]\n",
      " [ 84  94  70]\n",
      " ...\n",
      " [ 64 404 120]\n",
      " [ 80 420 115]\n",
      " [ 96 436 110]]\n",
      "[[ 98  80  80]\n",
      " [ 91  87  85]\n",
      " [ 84  94  90]\n",
      " ...\n",
      " [ 64 404 140]\n",
      " [ 80 420 145]\n",
      " [ 96 436 150]]\n",
      "(30088, 3)\n",
      "(30088, 3)\n",
      "[0 1 1 ... 1 1 1]\n",
      "[0 2 2 ... 2 2 2]\n",
      "(30088,)\n",
      "(30088,)\n"
     ]
    }
   ],
   "source": [
    "\n",
    "g = game_info[1]\n",
    "g2 = game_info2[1]\n",
    "\n",
    "feature = np.array([g['ball'][0], g['ball'][1], g['platform_1P'][0]])\n",
    "feature2 = np.array([g['ball'][0], g['ball'][1], g['platform_2P'][0]])\n",
    "\n",
    "game_command[1] = 0\n",
    "game_command2[1] = 0\n",
    "\n",
    "print(len(game_info))\n",
    "print(len(game_info2))\n",
    "\n",
    "for i in range(2, len(game_info) - 1):\n",
    "    g = game_info[i]\n",
    "    feature = np.vstack((feature, [g['ball'][0], g['ball'][1], g['platform_1P'][0]]))\n",
    "    if game_command[i] == \"NONE\": game_command[i] = 0\n",
    "    elif game_command[i] == \"MOVE_LEFT\": game_command[i] = 1\n",
    "    else: game_command[i] = 2\n",
    "        \n",
    "for i in range(2, len(game_info2) - 1):\n",
    "    g2 = game_info2[i]\n",
    "    feature2 = np.vstack((feature2, [g2['ball'][0], g2['ball'][1], g2['platform_2P'][0]]))\n",
    "    if game_command2[i] == \"NONE\": game_command2[i] = 0\n",
    "    elif game_command2[i] == \"MOVE_LEFT\": game_command2[i] = 1\n",
    "    else: game_command2[i] = 2\n",
    "    \n",
    "answer = np.array(game_command[1:-1])\n",
    "answer2 = np.array(game_command2[1:-1])\n",
    "\n",
    "print(feature)\n",
    "print(feature2)\n",
    "\n",
    "print(feature.shape)\n",
    "print(feature2.shape)\n",
    "\n",
    "print(answer)\n",
    "print(answer2)\n",
    "\n",
    "print(answer.shape)\n",
    "print(answer2.shape)"
   ]
  },
  {
   "cell_type": "code",
   "execution_count": 55,
   "metadata": {},
   "outputs": [
    {
     "name": "stdout",
     "output_type": "stream",
     "text": [
      "Fitting 2 folds for each of 3 candidates, totalling 6 fits\n"
     ]
    },
    {
     "name": "stderr",
     "output_type": "stream",
     "text": [
      "[Parallel(n_jobs=-1)]: Using backend LokyBackend with 8 concurrent workers.\n",
      "[Parallel(n_jobs=-1)]: Done   2 out of   6 | elapsed:    2.3s remaining:    4.6s\n",
      "[Parallel(n_jobs=-1)]: Done   3 out of   6 | elapsed:    2.3s remaining:    2.3s\n",
      "[Parallel(n_jobs=-1)]: Done   4 out of   6 | elapsed:    2.3s remaining:    1.1s\n",
      "[Parallel(n_jobs=-1)]: Done   6 out of   6 | elapsed:    2.3s remaining:    0.0s\n",
      "[Parallel(n_jobs=-1)]: Done   6 out of   6 | elapsed:    2.3s finished\n"
     ]
    }
   ],
   "source": [
    "#資料劃分\n",
    "x_train, x_test, y_train, y_test = train_test_split(feature, answer, test_size=1/3, random_state=25)\n",
    "#參數區間\n",
    "param_grid = {'n_neighbors':[1, 2, 3]}\n",
    "#交叉驗證 \n",
    "cv = StratifiedShuffleSplit(n_splits=2, test_size=0.3, random_state=12)\n",
    "grid = GridSearchCV(KNeighborsClassifier(), param_grid, cv=cv, verbose=10, n_jobs=-1) #n_jobs為平行運算的數量\n",
    "grid.fit(x_train, y_train)\n",
    "grid_predictions = grid.predict(x_test)\n",
    "\n",
    "#儲存\n",
    "file = open('model1.pickle', 'wb')\n",
    "pickle.dump(grid, file)\n",
    "file.close()"
   ]
  },
  {
   "cell_type": "code",
   "execution_count": 56,
   "metadata": {},
   "outputs": [
    {
     "name": "stdout",
     "output_type": "stream",
     "text": [
      "Fitting 2 folds for each of 3 candidates, totalling 6 fits\n"
     ]
    },
    {
     "name": "stderr",
     "output_type": "stream",
     "text": [
      "[Parallel(n_jobs=-1)]: Using backend LokyBackend with 8 concurrent workers.\n",
      "[Parallel(n_jobs=-1)]: Done   2 out of   6 | elapsed:    0.2s remaining:    0.6s\n",
      "[Parallel(n_jobs=-1)]: Done   3 out of   6 | elapsed:    0.2s remaining:    0.2s\n",
      "[Parallel(n_jobs=-1)]: Done   4 out of   6 | elapsed:    0.3s remaining:    0.1s\n",
      "[Parallel(n_jobs=-1)]: Done   6 out of   6 | elapsed:    1.1s remaining:    0.0s\n",
      "[Parallel(n_jobs=-1)]: Done   6 out of   6 | elapsed:    1.1s finished\n"
     ]
    }
   ],
   "source": [
    "#資料劃分\n",
    "x_train, x_test, y_train, y_test = train_test_split(feature2, answer2, test_size=1/3, random_state=42)\n",
    "#參數區間\n",
    "param_grid = {'n_neighbors':[1, 2, 3]}\n",
    "#交叉驗證 \n",
    "cv = StratifiedShuffleSplit(n_splits=2, test_size=0.3, random_state=12)\n",
    "grid = GridSearchCV(KNeighborsClassifier(), param_grid, cv=cv, verbose=10, n_jobs=-1) #n_jobs為平行運算的數量\n",
    "grid.fit(x_train, y_train)\n",
    "grid_predictions = grid.predict(x_test)\n",
    "\n",
    "#儲存\n",
    "file = open('model2.pickle', 'wb')\n",
    "pickle.dump(grid, file)\n",
    "file.close()"
   ]
  },
  {
   "cell_type": "code",
   "execution_count": 57,
   "metadata": {},
   "outputs": [
    {
     "name": "stdout",
     "output_type": "stream",
     "text": [
      "{'n_neighbors': 1}\n",
      "[[ 641  315  301]\n",
      " [ 315 3212  907]\n",
      " [ 326  935 3078]]\n",
      "              precision    recall  f1-score   support\n",
      "\n",
      "           0       0.50      0.51      0.50      1257\n",
      "           1       0.72      0.72      0.72      4434\n",
      "           2       0.72      0.71      0.71      4339\n",
      "\n",
      "    accuracy                           0.69     10030\n",
      "   macro avg       0.65      0.65      0.65     10030\n",
      "weighted avg       0.69      0.69      0.69     10030\n",
      "\n"
     ]
    }
   ],
   "source": [
    "#最佳參數\n",
    "print(grid.best_params_)\n",
    "#預測結果\n",
    "#print(grid_predictions)\n",
    "#混淆矩陣\n",
    "print(confusion_matrix(y_test, grid_predictions))\n",
    "#分類結果\n",
    "print(classification_report(y_test, grid_predictions))"
   ]
  },
  {
   "cell_type": "code",
   "execution_count": null,
   "metadata": {},
   "outputs": [],
   "source": []
  }
 ],
 "metadata": {
  "kernelspec": {
   "display_name": "Python 3",
   "language": "python",
   "name": "python3"
  },
  "language_info": {
   "codemirror_mode": {
    "name": "ipython",
    "version": 3
   },
   "file_extension": ".py",
   "mimetype": "text/x-python",
   "name": "python",
   "nbconvert_exporter": "python",
   "pygments_lexer": "ipython3",
   "version": "3.8.5"
  }
 },
 "nbformat": 4,
 "nbformat_minor": 4
}
