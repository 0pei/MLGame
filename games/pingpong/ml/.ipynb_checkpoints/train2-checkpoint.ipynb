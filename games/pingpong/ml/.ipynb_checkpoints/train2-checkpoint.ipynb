{
 "cells": [
  {
   "cell_type": "code",
   "execution_count": 3,
   "metadata": {},
   "outputs": [],
   "source": [
    "import pickle\n",
    "import numpy as np\n",
    "from sklearn.neighbors import KNeighborsClassifier\n",
    "from sklearn.model_selection import train_test_split, cross_val_score\n",
    "from sklearn.metrics import  classification_report, confusion_matrix\n",
    "from sklearn.model_selection import GridSearchCV\n",
    "from sklearn.model_selection import StratifiedShuffleSplit\n",
    "\n",
    "\n",
    "file = open(\"../log/ (1).pickle\", \"rb\")\n",
    "data = pickle.load(file)\n",
    "file.close()\n",
    "\n",
    "# print(data)"
   ]
  },
  {
   "cell_type": "code",
   "execution_count": 4,
   "metadata": {},
   "outputs": [
    {
     "name": "stdout",
     "output_type": "stream",
     "text": [
      "27659\n",
      "27659\n"
     ]
    }
   ],
   "source": [
    "game_info = data['ml_1P']['scene_info']\n",
    "\n",
    "game_command = data['ml_1P']['command']\n",
    "\n",
    "for i in range(2, 42):\n",
    "    path = \"../log/ (\"+str(i)+\").pickle\"\n",
    "    file = open(path, \"rb\")\n",
    "    data = pickle.load(file)\n",
    "    game_info = game_info + data['ml_1P']['scene_info']\n",
    "    game_command = game_command + data['ml_1P']['command']\n",
    "    file.close()\n",
    "    \n",
    "print(len(game_info))\n",
    "print(len(game_command))"
   ]
  },
  {
   "cell_type": "code",
   "execution_count": 5,
   "metadata": {},
   "outputs": [
    {
     "name": "stdout",
     "output_type": "stream",
     "text": [
      "[[ 98 415  80]\n",
      " [ 91 408  85]\n",
      " [ 84 401  90]\n",
      " ...\n",
      " [ 85 418  90]\n",
      " [ 70 433  85]\n",
      " [ 55 448  80]]\n",
      "(27657, 3)\n",
      "[0 2 1 ... 1 1 1]\n",
      "(27657,)\n"
     ]
    }
   ],
   "source": [
    "\n",
    "g = game_info[1]\n",
    "\n",
    "feature = np.array([g['ball'][0], g['ball'][1], g['platform_1P'][0]])\n",
    "game_command[1] = 0\n",
    "# print(len(game_info))\n",
    "for i in range(2, len(game_info) - 1):\n",
    "    g = game_info[i]\n",
    "    feature = np.vstack((feature, [g['ball'][0], g['ball'][1], g['platform_1P'][0]]))\n",
    "    if game_command[i] == \"NONE\": game_command[i] = 0\n",
    "    elif game_command[i] == \"MOVE_LEFT\": game_command[i] = 1\n",
    "    else: game_command[i] = 2\n",
    "    \n",
    "answer = np.array(game_command[1:-1])\n",
    "\n",
    "print(feature)\n",
    "print(feature.shape)\n",
    "print(answer)\n",
    "print(answer.shape)"
   ]
  },
  {
   "cell_type": "code",
   "execution_count": 6,
   "metadata": {},
   "outputs": [
    {
     "name": "stdout",
     "output_type": "stream",
     "text": [
      "Fitting 2 folds for each of 3 candidates, totalling 6 fits\n"
     ]
    },
    {
     "name": "stderr",
     "output_type": "stream",
     "text": [
      "[Parallel(n_jobs=-1)]: Using backend LokyBackend with 8 concurrent workers.\n",
      "[Parallel(n_jobs=-1)]: Done   2 out of   6 | elapsed:    2.4s remaining:    5.0s\n",
      "[Parallel(n_jobs=-1)]: Done   3 out of   6 | elapsed:    2.5s remaining:    2.5s\n",
      "[Parallel(n_jobs=-1)]: Done   4 out of   6 | elapsed:    2.5s remaining:    1.2s\n",
      "[Parallel(n_jobs=-1)]: Done   6 out of   6 | elapsed:    2.5s remaining:    0.0s\n",
      "[Parallel(n_jobs=-1)]: Done   6 out of   6 | elapsed:    2.5s finished\n"
     ]
    }
   ],
   "source": [
    "#資料劃分\n",
    "x_train, x_test, y_train, y_test = train_test_split(feature, answer, test_size=1/3, random_state=85)\n",
    "#參數區間\n",
    "param_grid = {'n_neighbors':[1, 2, 3]}\n",
    "#交叉驗證 \n",
    "cv = StratifiedShuffleSplit(n_splits=2, test_size=0.3, random_state=12)\n",
    "grid = GridSearchCV(KNeighborsClassifier(), param_grid, cv=cv, verbose=10, n_jobs=-1) #n_jobs為平行運算的數量\n",
    "grid.fit(x_train, y_train)\n",
    "grid_predictions = grid.predict(x_test)\n",
    "\n",
    "#儲存\n",
    "file = open('model1.pickle', 'wb')\n",
    "pickle.dump(grid, file)\n",
    "file.close()"
   ]
  },
  {
   "cell_type": "code",
   "execution_count": 7,
   "metadata": {},
   "outputs": [
    {
     "name": "stdout",
     "output_type": "stream",
     "text": [
      "{'n_neighbors': 1}\n",
      "[[   2   32   13]\n",
      " [  12 3824  847]\n",
      " [  16  786 3687]]\n",
      "              precision    recall  f1-score   support\n",
      "\n",
      "           0       0.07      0.04      0.05        47\n",
      "           1       0.82      0.82      0.82      4683\n",
      "           2       0.81      0.82      0.82      4489\n",
      "\n",
      "    accuracy                           0.81      9219\n",
      "   macro avg       0.57      0.56      0.56      9219\n",
      "weighted avg       0.81      0.81      0.81      9219\n",
      "\n"
     ]
    }
   ],
   "source": [
    "#最佳參數\n",
    "print(grid.best_params_)\n",
    "#預測結果\n",
    "#print(grid_predictions)\n",
    "#混淆矩陣\n",
    "print(confusion_matrix(y_test, grid_predictions))\n",
    "#分類結果\n",
    "print(classification_report(y_test, grid_predictions))"
   ]
  },
  {
   "cell_type": "code",
   "execution_count": null,
   "metadata": {},
   "outputs": [],
   "source": []
  }
 ],
 "metadata": {
  "kernelspec": {
   "display_name": "Python 3",
   "language": "python",
   "name": "python3"
  },
  "language_info": {
   "codemirror_mode": {
    "name": "ipython",
    "version": 3
   },
   "file_extension": ".py",
   "mimetype": "text/x-python",
   "name": "python",
   "nbconvert_exporter": "python",
   "pygments_lexer": "ipython3",
   "version": "3.8.5"
  }
 },
 "nbformat": 4,
 "nbformat_minor": 4
}
