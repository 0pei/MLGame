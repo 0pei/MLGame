{
 "cells": [
  {
   "cell_type": "code",
   "execution_count": 1,
   "metadata": {},
   "outputs": [],
   "source": [
    "import pickle\n",
    "import numpy as np\n",
    "from sklearn.neighbors import KNeighborsClassifier\n",
    "from sklearn.model_selection import train_test_split, cross_val_score\n",
    "from sklearn.metrics import  classification_report, confusion_matrix\n",
    "from sklearn.model_selection import GridSearchCV\n",
    "from sklearn.model_selection import StratifiedShuffleSplit\n",
    "\n",
    "\n",
    "file = open(\"../log/(1).pickle\", \"rb\")\n",
    "data = pickle.load(file)\n",
    "file.close()\n",
    "\n",
    "# print(data)"
   ]
  },
  {
   "cell_type": "code",
   "execution_count": 2,
   "metadata": {},
   "outputs": [
    {
     "name": "stdout",
     "output_type": "stream",
     "text": [
      "221396\n",
      "221396\n"
     ]
    }
   ],
   "source": [
    "game_info = data['ml']['scene_info']\n",
    "\n",
    "game_command = data['ml']['command']\n",
    "\n",
    "# for i in range(2, 48):\n",
    "#     path = \"../log/lin (\"+str(i)+\").pickle\"\n",
    "#     file = open(path, \"rb\")\n",
    "#     data = pickle.load(file)\n",
    "#     game_info = game_info + data['ml']['scene_info']\n",
    "#     game_command = game_command + data['ml']['command']\n",
    "#     file.close()\n",
    "\n",
    "# file = open(\"../log/(2).pickle\", \"rb\")\n",
    "# data = pickle.load(file)\n",
    "# game_info = game_info + data['ml']['scene_info']\n",
    "# game_command = game_command + data['ml']['command']\n",
    "# file.close()\n",
    "    \n",
    "print(len(game_info))\n",
    "print(len(game_command))"
   ]
  },
  {
   "cell_type": "code",
   "execution_count": 3,
   "metadata": {},
   "outputs": [
    {
     "name": "stdout",
     "output_type": "stream",
     "text": [
      "[[ 50  40]\n",
      " [ 60  40]\n",
      " [ 70  40]\n",
      " ...\n",
      " [ 60 270]\n",
      " [ 60 280]\n",
      " [ 60 290]]\n",
      "(221394, 2)\n",
      "[0 4 4 ... 4 4 4]\n",
      "(221394,)\n"
     ]
    }
   ],
   "source": [
    "\n",
    "g = game_info[1]\n",
    "\n",
    "feature = np.array([g['snake_head'][0], g['snake_head'][1]])\n",
    "# feature = np.array([g['snake_head'][0], g['snake_head'][1], g['food'][0], g['food'][1]])\n",
    "game_command[1] = 0\n",
    "# print(len(game_info))\n",
    "for i in range(2, len(game_info) - 1):\n",
    "    g = game_info[i]\n",
    "    feature = np.vstack((feature, [[g['snake_head'][0], g['snake_head'][1]]]))\n",
    "#     feature = np.vstack((feature, [[g['snake_head'][0], g['snake_head'][1], g['food'][0], g['food'][1]]]))\n",
    "    if game_command[i] == \"NONE\": game_command[i] = 0\n",
    "    elif game_command[i] == \"UP\": game_command[i] = 1\n",
    "    elif game_command[i] == \"DOWN\": game_command[i] = 2\n",
    "    elif game_command[i] == \"LEFT\": game_command[i] = 3\n",
    "    else: game_command[i] = 4\n",
    "    \n",
    "answer = np.array(game_command[1:-1])\n",
    "\n",
    "print(feature)\n",
    "print(feature.shape)\n",
    "print(answer)\n",
    "print(answer.shape)"
   ]
  },
  {
   "cell_type": "code",
   "execution_count": 4,
   "metadata": {},
   "outputs": [
    {
     "name": "stdout",
     "output_type": "stream",
     "text": [
      "Fitting 2 folds for each of 3 candidates, totalling 6 fits\n"
     ]
    },
    {
     "name": "stderr",
     "output_type": "stream",
     "text": [
      "[Parallel(n_jobs=-1)]: Using backend LokyBackend with 8 concurrent workers.\n",
      "[Parallel(n_jobs=-1)]: Done   2 out of   6 | elapsed:    6.3s remaining:   12.6s\n",
      "[Parallel(n_jobs=-1)]: Done   3 out of   6 | elapsed:    6.3s remaining:    6.3s\n",
      "[Parallel(n_jobs=-1)]: Done   4 out of   6 | elapsed:    6.3s remaining:    3.1s\n",
      "[Parallel(n_jobs=-1)]: Done   6 out of   6 | elapsed:    6.3s remaining:    0.0s\n",
      "[Parallel(n_jobs=-1)]: Done   6 out of   6 | elapsed:    6.3s finished\n"
     ]
    }
   ],
   "source": [
    "#資料劃分\n",
    "x_train, x_test, y_train, y_test = train_test_split(feature, answer, test_size=1/3, random_state=85)\n",
    "#參數區間\n",
    "param_grid = {'n_neighbors':[1, 2, 3]}\n",
    "#交叉驗證 \n",
    "cv = StratifiedShuffleSplit(n_splits=2, test_size=0.3, random_state=12)\n",
    "grid = GridSearchCV(KNeighborsClassifier(), param_grid, cv=cv, verbose=10, n_jobs=-1) #n_jobs為平行運算的數量\n",
    "grid.fit(x_train, y_train)\n",
    "grid_predictions = grid.predict(x_test)\n",
    "\n",
    "#儲存\n",
    "file = open('model0610.pickle', 'wb')\n",
    "pickle.dump(grid, file)\n",
    "file.close()"
   ]
  },
  {
   "cell_type": "code",
   "execution_count": 5,
   "metadata": {},
   "outputs": [
    {
     "name": "stdout",
     "output_type": "stream",
     "text": [
      "{'n_neighbors': 2}\n",
      "[[    0     1     0     0     0]\n",
      " [    0 14170   570  2106  1518]\n",
      " [    0  1724 12869  1980  1892]\n",
      " [    0  6033  6090  5684   646]\n",
      " [    0  6695  6288  1556  3976]]\n",
      "              precision    recall  f1-score   support\n",
      "\n",
      "           0       0.00      0.00      0.00         1\n",
      "           1       0.50      0.77      0.60     18364\n",
      "           2       0.50      0.70      0.58     18465\n",
      "           3       0.50      0.31      0.38     18453\n",
      "           4       0.50      0.21      0.30     18515\n",
      "\n",
      "    accuracy                           0.50     73798\n",
      "   macro avg       0.40      0.40      0.37     73798\n",
      "weighted avg       0.50      0.50      0.47     73798\n",
      "\n"
     ]
    },
    {
     "name": "stderr",
     "output_type": "stream",
     "text": [
      "C:\\Users\\User\\anaconda3\\lib\\site-packages\\sklearn\\metrics\\_classification.py:1221: UndefinedMetricWarning: Precision and F-score are ill-defined and being set to 0.0 in labels with no predicted samples. Use `zero_division` parameter to control this behavior.\n",
      "  _warn_prf(average, modifier, msg_start, len(result))\n"
     ]
    }
   ],
   "source": [
    "#最佳參數\n",
    "print(grid.best_params_)\n",
    "#預測結果\n",
    "#print(grid_predictions)\n",
    "#混淆矩陣\n",
    "print(confusion_matrix(y_test, grid_predictions))\n",
    "#分類結果\n",
    "print(classification_report(y_test, grid_predictions))"
   ]
  },
  {
   "cell_type": "code",
   "execution_count": null,
   "metadata": {},
   "outputs": [],
   "source": []
  }
 ],
 "metadata": {
  "kernelspec": {
   "display_name": "Python 3",
   "language": "python",
   "name": "python3"
  },
  "language_info": {
   "codemirror_mode": {
    "name": "ipython",
    "version": 3
   },
   "file_extension": ".py",
   "mimetype": "text/x-python",
   "name": "python",
   "nbconvert_exporter": "python",
   "pygments_lexer": "ipython3",
   "version": "3.8.5"
  }
 },
 "nbformat": 4,
 "nbformat_minor": 4
}
